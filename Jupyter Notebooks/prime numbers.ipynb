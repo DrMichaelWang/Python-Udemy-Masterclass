{
 "cells": [
  {
   "cell_type": "code",
   "execution_count": 43,
   "metadata": {
    "collapsed": false
   },
   "outputs": [],
   "source": [
    "def check_prime(num):\n",
    "    \n",
    "    is_prime = True\n",
    "    if num ==2:\n",
    "        return True\n",
    "    if num >2:\n",
    "        for x in range(2,num):\n",
    "            if num%x == 0:\n",
    "                is_prime = False\n",
    "                print 'Not prime'\n",
    "                break\n",
    "            \n",
    "    return is_prime\n",
    "\n",
    "\n",
    "\n"
   ]
  },
  {
   "cell_type": "code",
   "execution_count": 46,
   "metadata": {
    "collapsed": false
   },
   "outputs": [
    {
     "name": "stdout",
     "output_type": "stream",
     "text": [
      "Not prime\n"
     ]
    },
    {
     "data": {
      "text/plain": [
       "False"
      ]
     },
     "execution_count": 46,
     "metadata": {},
     "output_type": "execute_result"
    }
   ],
   "source": [
    "check_prime(8)"
   ]
  },
  {
   "cell_type": "code",
   "execution_count": 48,
   "metadata": {
    "collapsed": true
   },
   "outputs": [],
   "source": [
    "def nth_prime(n):\n",
    "    \n",
    "    counter=0\n",
    "    num=2\n",
    "    \n",
    "    while True:\n",
    "        if check_prime(num):\n",
    "            counter+=1        \n",
    "        if counter == n:\n",
    "            break\n",
    "        num+=1\n",
    "        \n",
    "    print 'the %sth prime is %s'%(n,num)"
   ]
  },
  {
   "cell_type": "code",
   "execution_count": 63,
   "metadata": {
    "collapsed": false
   },
   "outputs": [
    {
     "name": "stdout",
     "output_type": "stream",
     "text": [
      "the 1000th prime is 7919\n"
     ]
    }
   ],
   "source": [
    "def check_prime(num):\n",
    "    \n",
    "    is_prime = True\n",
    "    if num ==2:\n",
    "        return True\n",
    "    if num >2:\n",
    "        for x in range(2,num):\n",
    "            if num%x == 0:\n",
    "                is_prime = False\n",
    "                break            \n",
    "    return is_prime\n",
    "\n",
    "\n",
    "\n",
    "def nth_prime(n):\n",
    "    \n",
    "    counter=0\n",
    "    num=2\n",
    "    \n",
    "    while True:\n",
    "        if check_prime(num):\n",
    "            counter+=1        \n",
    "        if counter == n:\n",
    "            break\n",
    "        num+=1\n",
    "        \n",
    "    print 'the %sth prime is %s'%(n,num)\n",
    "    \n",
    "def main(n):\n",
    "    \n",
    "    nth_prime(n)\n",
    "    \n",
    "if __name__ =='__main__':\n",
    "    main(1000)"
   ]
  },
  {
   "cell_type": "code",
   "execution_count": 56,
   "metadata": {
    "collapsed": false
   },
   "outputs": [
    {
     "name": "stdout",
     "output_type": "stream",
     "text": [
      "the 1000th prime is 7919\n"
     ]
    }
   ],
   "source": [
    "nth_prime(1000)"
   ]
  },
  {
   "cell_type": "code",
   "execution_count": null,
   "metadata": {
    "collapsed": true
   },
   "outputs": [],
   "source": []
  }
 ],
 "metadata": {
  "anaconda-cloud": {},
  "kernelspec": {
   "display_name": "Python [default]",
   "language": "python",
   "name": "python2"
  },
  "language_info": {
   "codemirror_mode": {
    "name": "ipython",
    "version": 2
   },
   "file_extension": ".py",
   "mimetype": "text/x-python",
   "name": "python",
   "nbconvert_exporter": "python",
   "pygments_lexer": "ipython2",
   "version": "2.7.12"
  }
 },
 "nbformat": 4,
 "nbformat_minor": 1
}
