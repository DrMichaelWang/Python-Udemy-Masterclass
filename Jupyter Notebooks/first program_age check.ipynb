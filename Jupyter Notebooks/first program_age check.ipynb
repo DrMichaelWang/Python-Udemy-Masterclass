{
 "cells": [
  {
   "cell_type": "code",
   "execution_count": 27,
   "metadata": {
    "collapsed": false,
    "scrolled": true
   },
   "outputs": [
    {
     "name": "stdout",
     "output_type": "stream",
     "text": [
      "Hello, what is your first name? \n",
      ">> Grace\n",
      "\n",
      "Nice!\n",
      "\n",
      "So Grace, I will now guess your age!\n",
      " \n",
      "But I need to ask you some questions: \n",
      "\n",
      "What is the first number of your age?\n",
      ">> 2\n",
      "\n",
      "Ok, Grace, I will multiply that by 5 = 10\n",
      "\n",
      "Next, I will add 3 to the number = 13 \n",
      "\n",
      "Next, I will double that number = 26 \n",
      "\n",
      "Now I will need the second number of your age!! \n",
      ">> 9\n",
      "\n",
      "Thanks, I will add that number to our running total 26 + 9 = 35 \n",
      "\n",
      "And the last thing I will do is to subtract 6 [35- 6] = 29 \n",
      "\n",
      "Wow!!!! So your age is 29 \n",
      "\n"
     ]
    }
   ],
   "source": [
    "name = str(raw_input('Hello, what is your first name? \\n>> ')) \n",
    "print ''\n",
    "print 'Nice!\\n'\n",
    "print 'So %s, I will now guess your age!\\n '%name\n",
    "print 'But I need to ask you some questions: \\n'\n",
    "\n",
    "first_number = int(raw_input('What is the first number of your age?\\n>> '))\n",
    "\n",
    "num1= int(first_number)*5\n",
    "print''\n",
    "print 'Ok, %s, I will multiply that by 5 = %s' %(name, num1)\n",
    "\n",
    "num2= num1 + 3\n",
    "print''\n",
    "print 'Next, I will add 3 to the number = %s \\n' %num2\n",
    "\n",
    "num3= num2*2\n",
    "print 'Next, I will double that number = %s \\n' %num3\n",
    "second_number = int(raw_input('Now I will need the second number of your age!! \\n>> '))\n",
    "num4=num3+second_number\n",
    "\n",
    "print''\n",
    "print'Thanks, I will add that number to our running total %s + %s = %s \\n' %(num3, second_number, num4)\n",
    "num5=num4-6\n",
    "print 'And the last thing I will do is to subtract 6 [%s- 6] = %s \\n' %(num4, num5)\n",
    "print 'Wow!!!! So your age is %s \\n' %num5\n"
   ]
  },
  {
   "cell_type": "code",
   "execution_count": null,
   "metadata": {
    "collapsed": true
   },
   "outputs": [],
   "source": []
  }
 ],
 "metadata": {
  "anaconda-cloud": {},
  "kernelspec": {
   "display_name": "Python [default]",
   "language": "python",
   "name": "python2"
  },
  "language_info": {
   "codemirror_mode": {
    "name": "ipython",
    "version": 2
   },
   "file_extension": ".py",
   "mimetype": "text/x-python",
   "name": "python",
   "nbconvert_exporter": "python",
   "pygments_lexer": "ipython2",
   "version": "2.7.12"
  }
 },
 "nbformat": 4,
 "nbformat_minor": 1
}
