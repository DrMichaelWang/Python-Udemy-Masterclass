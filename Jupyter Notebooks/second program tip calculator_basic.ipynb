{
 "cells": [
  {
   "cell_type": "code",
   "execution_count": 15,
   "metadata": {
    "collapsed": false
   },
   "outputs": [
    {
     "name": "stdout",
     "output_type": "stream",
     "text": [
      "How much is the bill? \n",
      " >> $ 124.78\n",
      "\n",
      "How many people? \n",
      " >> 7\n",
      "\n",
      "What percentage of tip? \n",
      " >> % 14.5\n",
      "\n",
      "Calculating payment... \n",
      "\n",
      "Each person pays $17.83 for the bill\n",
      "Each person pays $2.58 for the tip\n",
      "Which means each person will pay a total of $20.41\n"
     ]
    }
   ],
   "source": [
    "bill = float(raw_input ('How much is the bill? \\n >> $ '))\n",
    "print ''\n",
    "people = int(raw_input ('How many people? \\n >> '))\n",
    "print ''\n",
    "bill_per_person = float(bill)/float(people)\n",
    "#print bill_per_person\n",
    "tip = float(raw_input ('What percentage of tip? \\n >> % '))\n",
    "print ''\n",
    "tip_per_person = float(bill_per_person)*float(tip)/100\n",
    "payment_per_person = bill_per_person + tip_per_person\n",
    "print 'Calculating payment... \\n' \n",
    "print 'Each person pays $%.2f for the bill' %(bill_per_person)\n",
    "print 'Each person pays $%.2f for the tip' %(tip_per_person)\n",
    "print 'Which means each person will pay a total of $%.2f' %(payment_per_person)"
   ]
  },
  {
   "cell_type": "code",
   "execution_count": 7,
   "metadata": {
    "collapsed": false
   },
   "outputs": [
    {
     "name": "stdout",
     "output_type": "stream",
     "text": [
      "no Python documentation found for '%d'\n",
      "\n"
     ]
    }
   ],
   "source": [
    "help('%d')"
   ]
  },
  {
   "cell_type": "code",
   "execution_count": null,
   "metadata": {
    "collapsed": true
   },
   "outputs": [],
   "source": []
  }
 ],
 "metadata": {
  "anaconda-cloud": {},
  "kernelspec": {
   "display_name": "Python [default]",
   "language": "python",
   "name": "python2"
  },
  "language_info": {
   "codemirror_mode": {
    "name": "ipython",
    "version": 2
   },
   "file_extension": ".py",
   "mimetype": "text/x-python",
   "name": "python",
   "nbconvert_exporter": "python",
   "pygments_lexer": "ipython2",
   "version": "2.7.12"
  }
 },
 "nbformat": 4,
 "nbformat_minor": 1
}
