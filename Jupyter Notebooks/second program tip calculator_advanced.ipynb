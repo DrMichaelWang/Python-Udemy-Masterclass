{
 "cells": [
  {
   "cell_type": "code",
   "execution_count": 2,
   "metadata": {
    "collapsed": false
   },
   "outputs": [
    {
     "name": "stdout",
     "output_type": "stream",
     "text": [
      "How much is the bill? \n",
      " >> $ ad\n",
      "Warning: input must be numeric\n",
      "How much is the bill? \n",
      " >> $ at\n",
      "Warning: input must be numeric\n",
      "How much is the bill? \n",
      " >> $ 100\n",
      "\n",
      "How many people? \n",
      " >> te\n",
      "Warning: input must be numeric\n",
      "How many people? \n",
      " >> 10\n",
      "\n",
      "What percentage of tip? \n",
      " >> % et\n",
      "Warning: input must be numeric\n",
      "What percentage of tip? \n",
      " >> % 4t\n",
      "Warning: input must be numeric\n",
      "What percentage of tip? \n",
      " >> % 10\n",
      "\n",
      "Calculating payment... \n",
      "\n",
      "Each person pays $10.00 for the bill\n",
      "Each person pays $1.00 for the tip\n",
      "Which means each person will pay a total of $11.00\n"
     ]
    }
   ],
   "source": [
    "while True:\n",
    "    try: \n",
    "        bill = float(raw_input ('How much is the bill? \\n >> $ '))\n",
    "        break\n",
    "# or use round(value,decimal requirements)\n",
    "    except: \n",
    "        print 'Warning: input must be numeric'\n",
    "\n",
    "print ''\n",
    "\n",
    "while True:\n",
    "    try:\n",
    "        people = int(raw_input ('How many people? \\n >> '))\n",
    "        break\n",
    "    except: \n",
    "        print 'Warning: input must be numeric'\n",
    "print ''\n",
    "\n",
    "bill_per_person = float(bill)/float(people)\n",
    "   \n",
    "        \n",
    "#print bill_per_person\n",
    "while True:\n",
    "    try: \n",
    "        tip = float(raw_input ('What percentage of tip? \\n >> % '))\n",
    "        break\n",
    "    except: \n",
    "        print 'Warning: input must be numeric'\n",
    "        \n",
    "print ''\n",
    "tip_per_person = float(bill_per_person)*float(tip)/100\n",
    "payment_per_person = bill_per_person + tip_per_person\n",
    "print 'Calculating payment... \\n' \n",
    "print 'Each person pays $%.2f for the bill' %(bill_per_person)\n",
    "print 'Each person pays $%.2f for the tip' %(tip_per_person)\n",
    "print 'Which means each person will pay a total of $%.2f' %(payment_per_person)"
   ]
  },
  {
   "cell_type": "code",
   "execution_count": 7,
   "metadata": {
    "collapsed": false
   },
   "outputs": [
    {
     "name": "stdout",
     "output_type": "stream",
     "text": [
      "no Python documentation found for '%d'\n",
      "\n"
     ]
    }
   ],
   "source": [
    "help('%d')"
   ]
  },
  {
   "cell_type": "code",
   "execution_count": null,
   "metadata": {
    "collapsed": true
   },
   "outputs": [],
   "source": []
  }
 ],
 "metadata": {
  "anaconda-cloud": {},
  "kernelspec": {
   "display_name": "Python [default]",
   "language": "python",
   "name": "python2"
  },
  "language_info": {
   "codemirror_mode": {
    "name": "ipython",
    "version": 2
   },
   "file_extension": ".py",
   "mimetype": "text/x-python",
   "name": "python",
   "nbconvert_exporter": "python",
   "pygments_lexer": "ipython2",
   "version": "2.7.12"
  }
 },
 "nbformat": 4,
 "nbformat_minor": 1
}
