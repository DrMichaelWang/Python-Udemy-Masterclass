{
 "cells": [
  {
   "cell_type": "code",
   "execution_count": 5,
   "metadata": {
    "collapsed": false
   },
   "outputs": [
    {
     "name": "stdout",
     "output_type": "stream",
     "text": [
      "Test or Run: test\n",
      "Testing 55\n",
      "6 packs = 1, 9 packs = 1, 20 packs = 2 \n",
      "\n",
      "Testing 65\n",
      "6 packs = 6, 9 packs = 1, 20 packs = 1 \n",
      "\n",
      "Testing 17\n",
      "No solution for 17 nuggets\n",
      "Testing 121\n",
      "6 packs = 12, 9 packs = 1, 20 packs = 2 \n",
      "\n",
      "Testing h\n",
      "A type error occurred. Please make sure entering an integer.\n",
      "Done, hit Enter to exit f\n"
     ]
    }
   ],
   "source": [
    "def nugget_calculator (number):\n",
    "    \n",
    "    try:\n",
    "        for c in range(int(number/20)+1):\n",
    "            for b in range(int(number/9)+1):\n",
    "                for a in range(int(number/6)+1):\n",
    "                    n = 6*a + 9*b + 20*c\n",
    "                    if n == number:\n",
    "                        return '6 packs = %s, 9 packs = %s, 20 packs = %s \\n'%(a,b,c)\n",
    "        return 'No solution for %s nuggets' %(number)\n",
    "    except:\n",
    "        return 'A type error occurred. Please make sure entering an integer.'\n",
    "    \n",
    "def test():\n",
    "    print 'Testing 55'\n",
    "    print nugget_calculator(55)\n",
    "    print 'Testing 65'\n",
    "    print nugget_calculator(65)\n",
    "    print 'Testing 17'\n",
    "    print nugget_calculator(17)\n",
    "    print 'Testing 121'\n",
    "    print nugget_calculator(121)\n",
    "    print 'Testing h'\n",
    "    print nugget_calculator('h')\n",
    "    raw_input('Done, hit Enter to exit ')    \n",
    "        \n",
    "\n",
    "def main():\n",
    "    \n",
    "    before_start = raw_input('Test or Run: ')    \n",
    "    if before_start.lower() == 'test':\n",
    "        test()      \n",
    "    elif before_start.lower() =='run':\n",
    "        while True:\n",
    "            print \"How many Nuggets do you need in your party, [type 'q' to exit] \\n\"\n",
    "            num = raw_input(\" >>>> \")\n",
    "            if num == 'q':\n",
    "                break\n",
    "            else:\n",
    "                try:\n",
    "                    result = nugget_calculator(int(num))\n",
    "                    print result\n",
    "                    print ''\n",
    "                except:\n",
    "                    print \"input needs to be an integer\"\n",
    "                    print ''\n",
    "    else: \n",
    "        print 'please input Test or Run only'\n",
    "            \n",
    "            \n",
    "           \n",
    "    \n",
    "if __name__ == '__main__':\n",
    "    main()"
   ]
  },
  {
   "cell_type": "code",
   "execution_count": null,
   "metadata": {
    "collapsed": true
   },
   "outputs": [],
   "source": []
  }
 ],
 "metadata": {
  "anaconda-cloud": {},
  "kernelspec": {
   "display_name": "Python [default]",
   "language": "python",
   "name": "python2"
  },
  "language_info": {
   "codemirror_mode": {
    "name": "ipython",
    "version": 2
   },
   "file_extension": ".py",
   "mimetype": "text/x-python",
   "name": "python",
   "nbconvert_exporter": "python",
   "pygments_lexer": "ipython2",
   "version": "2.7.12"
  }
 },
 "nbformat": 4,
 "nbformat_minor": 1
}
