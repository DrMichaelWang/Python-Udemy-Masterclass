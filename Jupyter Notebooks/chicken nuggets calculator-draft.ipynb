{
 "cells": [
  {
   "cell_type": "code",
   "execution_count": 4,
   "metadata": {
    "collapsed": false
   },
   "outputs": [
    {
     "name": "stdout",
     "output_type": "stream",
     "text": [
      "Test or Run: run\n",
      "How many Nuggets do you need in your party, [type 'q' to exit] \n",
      "\n",
      " >>>> 100\n",
      "6 packs = 10, 9 packs = 0, 20 packs = 2 \n",
      "\n",
      "\n",
      "How many Nuggets do you need in your party, [type 'q' to exit] \n",
      "\n",
      " >>>> 143\n",
      "6 packs = 19, 9 packs = 1, 20 packs = 1 \n",
      "\n",
      "\n",
      "How many Nuggets do you need in your party, [type 'q' to exit] \n",
      "\n",
      " >>>> 20\n",
      "6 packs = 0, 9 packs = 0, 20 packs = 1 \n",
      "\n",
      "\n",
      "How many Nuggets do you need in your party, [type 'q' to exit] \n",
      "\n",
      " >>>> h\n",
      "input needs to be an integer\n",
      "\n",
      "How many Nuggets do you need in your party, [type 'q' to exit] \n",
      "\n",
      " >>>> q\n"
     ]
    }
   ],
   "source": [
    "def nugget_calculator (number):\n",
    "    \n",
    "    for c in range(int(number/20)+1):\n",
    "        for b in range(int(number/9)+1):\n",
    "            for a in range(int(number/6)+1):\n",
    "                n = 6*a + 9*b + 20*c\n",
    "                if n == number:\n",
    "                    return '6 packs = %s, 9 packs = %s, 20 packs = %s \\n'%(a,b,c)\n",
    "       \n",
    "    return 'No solution for %s nuggets' %(number)\n",
    "   \n",
    "    \n",
    "'''   \n",
    "    \n",
    "    try:\n",
    "        limit = int(number)\n",
    "        assert type(limit) == int\n",
    "        assert limit >= 0\n",
    "\n",
    "        for c in range(int(limit/20)+1):\n",
    "            for b in range(int(limit/9)+1):\n",
    "                for a in range(int(limit/6)+1):\n",
    "                    n = 6*a + 9*b + 20*c\n",
    "                    if n == limit:\n",
    "                        return \"6 packs = %s, 9 packs = %s, 20 packs = %s\" % (str(a),str(b),str(c))\n",
    "        return \" No Solution for: %s nuggets\" % str(limit)\n",
    "    except:\n",
    "        return \" An Error occurred, make sure you entered an integer.\"\n",
    "'''\n",
    "    \n",
    "def test():\n",
    "    print 'Testing 55'\n",
    "    print nugget_calculator(55)\n",
    "    print 'Testing 65'\n",
    "    print nugget_calculator(65)\n",
    "    print 'Testing 17'\n",
    "    print nugget_calculator(17)\n",
    "    print 'Testing 121'\n",
    "    print nugget_calculator(121)\n",
    "    print 'Testing h'\n",
    "    print nugget_calculator('h')\n",
    "    raw_input('Done, hit Enter to exit ')    \n",
    "        \n",
    "\n",
    "def main():\n",
    "    \n",
    "    before_start = raw_input('Test or Run: ')    \n",
    "    if before_start.lower() == 'test':\n",
    "        test()\n",
    "        \n",
    "    elif before_start.lower() =='run':\n",
    "        while True:\n",
    "            print \"How many Nuggets do you need in your party, [type 'q' to exit] \\n\"\n",
    "            num = raw_input(\" >>>> \")\n",
    "            if num == 'q':\n",
    "                break\n",
    "            else:\n",
    "                try:\n",
    "                    result = nugget_calculator(int(num))\n",
    "                    print result\n",
    "                    print ''\n",
    "                except:\n",
    "                    print \"input needs to be an integer\"\n",
    "                    print ''\n",
    "    \n",
    "    else: \n",
    "        print 'please input Test or Run only'\n",
    "            \n",
    "            \n",
    "           \n",
    "    \n",
    "if __name__ == '__main__':\n",
    "    main()"
   ]
  },
  {
   "cell_type": "code",
   "execution_count": null,
   "metadata": {
    "collapsed": false
   },
   "outputs": [
    {
     "name": "stdout",
     "output_type": "stream",
     "text": [
      "How many Nuggets do you need in your party, [type 'q' to exit] \n",
      " >> q\n"
     ]
    },
    {
     "name": "stderr",
     "output_type": "stream",
     "text": [
      "C:\\Users\\Shibo Wang\\Anaconda2\\lib\\site-packages\\ipykernel\\__main__.py:6: DeprecationWarning: catching of string exceptions is deprecated\n"
     ]
    },
    {
     "name": "stdout",
     "output_type": "stream",
     "text": [
      "please input Test or Run only\n",
      "How many Nuggets do you need in your party, [type 'q' to exit] \n",
      " >> r\n",
      "please input Test or Run only\n",
      "How many Nuggets do you need in your party, [type 'q' to exit] \n",
      " >> 10\n",
      "How many Nuggets do you need in your party, [type 'q' to exit] \n",
      " >> e\n",
      "please input Test or Run only\n",
      "How many Nuggets do you need in your party, [type 'q' to exit] \n",
      " >> 10.5\n",
      "please input Test or Run only\n"
     ]
    }
   ],
   "source": [
    "# Test: \n",
    "        \n",
    "while True:\n",
    "    try:\n",
    "        num = int(raw_input(\"How many Nuggets do you need in your party, [type 'q' to exit] \\n >> \"))\n",
    "    except 'q':\n",
    "        break\n",
    "    except:\n",
    "        print 'please input Test or Run only'      "
   ]
  },
  {
   "cell_type": "code",
   "execution_count": 10,
   "metadata": {
    "collapsed": false
   },
   "outputs": [
    {
     "data": {
      "text/plain": [
       "True"
      ]
     },
     "execution_count": 10,
     "metadata": {},
     "output_type": "execute_result"
    }
   ],
   "source": [
    "type(2)==int\n",
    "    "
   ]
  },
  {
   "cell_type": "code",
   "execution_count": 23,
   "metadata": {
    "collapsed": false
   },
   "outputs": [
    {
     "name": "stdout",
     "output_type": "stream",
     "text": [
      "Test or Run: TEST\n"
     ]
    }
   ],
   "source": [
    "before_start = raw_input('Test or Run: ')"
   ]
  },
  {
   "cell_type": "code",
   "execution_count": 24,
   "metadata": {
    "collapsed": false
   },
   "outputs": [
    {
     "data": {
      "text/plain": [
       "'test'"
      ]
     },
     "execution_count": 24,
     "metadata": {},
     "output_type": "execute_result"
    }
   ],
   "source": [
    "before_start.lower()"
   ]
  },
  {
   "cell_type": "code",
   "execution_count": 2,
   "metadata": {
    "collapsed": false
   },
   "outputs": [
    {
     "name": "stdout",
     "output_type": "stream",
     "text": [
      "Test or Run: t\n"
     ]
    }
   ],
   "source": [
    "before_start = raw_input('Test or Run: ')\n",
    "    \n",
    "while True: \n",
    "    try:        \n",
    "        before_start.lower()== 'test' or 'run'\n",
    "        break\n",
    "    except:\n",
    "        print 'please input Test or Run only'"
   ]
  },
  {
   "cell_type": "code",
   "execution_count": 4,
   "metadata": {
    "collapsed": false
   },
   "outputs": [
    {
     "name": "stdout",
     "output_type": "stream",
     "text": [
      "Test or Run: t\n",
      "run\n",
      "t\n"
     ]
    }
   ],
   "source": [
    "before_start = raw_input('Test or Run: ')\n",
    "print before_start.lower()== 'test' or 'run'\n",
    "print before_start.lower()"
   ]
  },
  {
   "cell_type": "code",
   "execution_count": 3,
   "metadata": {
    "collapsed": false
   },
   "outputs": [
    {
     "name": "stdout",
     "output_type": "stream",
     "text": [
      "Test or Run: r\n",
      "please input Test or Run only\n",
      "Test or Run: 5\n",
      "please input Test or Run only\n",
      "Test or Run: 6\n",
      "please input Test or Run only\n",
      "Test or Run: fa\n",
      "please input Test or Run only\n",
      "Test or Run: f\n",
      "please input Test or Run only\n",
      "Test or Run: RUN\n"
     ]
    }
   ],
   "source": [
    "while True: \n",
    "    before_start = raw_input('Test or Run: ')    \n",
    "    if before_start.lower()== 'test' or before_start.lower() =='run':\n",
    "        break\n",
    "    else:\n",
    "        print 'please input Test or Run only'"
   ]
  },
  {
   "cell_type": "code",
   "execution_count": 17,
   "metadata": {
    "collapsed": false
   },
   "outputs": [
    {
     "name": "stdout",
     "output_type": "stream",
     "text": [
      "Test or Run: r\n",
      "please input Test or Run only\n",
      "Test or Run: 3\n",
      "please input Test or Run only\n",
      "Test or Run: RUn\n",
      "How many Nuggets do you need in your party, [type 'q' to exit] \n",
      " >> r\n",
      "input needs to be an integer or 'q'.\n",
      "How many Nuggets do you need in your party, [type 'q' to exit] \n",
      " >> 3\n"
     ]
    }
   ],
   "source": [
    "    while True: \n",
    "        before_start = raw_input('Test or Run: ')    \n",
    "        if before_start.lower()== 'test' or before_start.lower() =='run':\n",
    "            break\n",
    "        else:\n",
    "            print 'please input Test or Run only'\n",
    "                \n",
    "    if before_start.lower()== 'test':\n",
    "        pass\n",
    "    else:\n",
    "        while True:\n",
    "      #      if \n",
    "            \n",
    "            try:\n",
    "                num = int(raw_input(\"How many Nuggets do you need in your party, [type 'q' to exit] \\n >> \"))\n",
    "                break\n",
    "            except:\n",
    "                print \"input needs to be an integer or 'q'.\"\n",
    "        print ''\n",
    "        \n",
    "        \n"
   ]
  },
  {
   "cell_type": "code",
   "execution_count": 8,
   "metadata": {
    "collapsed": true
   },
   "outputs": [],
   "source": [
    "exit()"
   ]
  },
  {
   "cell_type": "code",
   "execution_count": 9,
   "metadata": {
    "collapsed": false
   },
   "outputs": [
    {
     "name": "stdout",
     "output_type": "stream",
     "text": [
      "How many Nuggets do you need in your party, [type 'q' to exit] \n",
      " >> 8.5\n"
     ]
    },
    {
     "ename": "ValueError",
     "evalue": "invalid literal for int() with base 10: '8.5'",
     "output_type": "error",
     "traceback": [
      "\u001b[0;31m---------------------------------------------------------------------------\u001b[0m",
      "\u001b[0;31mValueError\u001b[0m                                Traceback (most recent call last)",
      "\u001b[0;32m<ipython-input-9-2ae23c561a0b>\u001b[0m in \u001b[0;36m<module>\u001b[0;34m()\u001b[0m\n\u001b[0;32m----> 1\u001b[0;31m \u001b[0mnum\u001b[0m \u001b[1;33m=\u001b[0m \u001b[0mint\u001b[0m\u001b[1;33m(\u001b[0m\u001b[0mraw_input\u001b[0m\u001b[1;33m(\u001b[0m\u001b[1;34m\"How many Nuggets do you need in your party, [type 'q' to exit] \\n >> \"\u001b[0m\u001b[1;33m)\u001b[0m\u001b[1;33m)\u001b[0m\u001b[1;33m\u001b[0m\u001b[0m\n\u001b[0m\u001b[1;32m      2\u001b[0m \u001b[0mtype\u001b[0m\u001b[1;33m(\u001b[0m\u001b[0mnum\u001b[0m\u001b[1;33m)\u001b[0m\u001b[1;33m\u001b[0m\u001b[0m\n",
      "\u001b[0;31mValueError\u001b[0m: invalid literal for int() with base 10: '8.5'"
     ]
    }
   ],
   "source": [
    "num = int(raw_input(\"How many Nuggets do you need in your party, [type 'q' to exit] \\n >> \"))\n",
    "type(num)"
   ]
  },
  {
   "cell_type": "code",
   "execution_count": 13,
   "metadata": {
    "collapsed": false
   },
   "outputs": [
    {
     "name": "stdout",
     "output_type": "stream",
     "text": [
      "How many Nuggets do you need in your party, [type 'q' to exit] \n",
      " >> 3\n"
     ]
    }
   ],
   "source": [
    "while True:\n",
    "    num = raw_input(\"How many Nuggets do you need in your party, [type 'q' to exit] \\n >> \")\n",
    "    try: \n",
    "        num == 'q'\n",
    "        break\n",
    "    except:\n",
    "        print \"input needs to be an integer or 'q'.\""
   ]
  },
  {
   "cell_type": "code",
   "execution_count": 7,
   "metadata": {
    "collapsed": false
   },
   "outputs": [
    {
     "data": {
      "text/plain": [
       "10"
      ]
     },
     "execution_count": 7,
     "metadata": {},
     "output_type": "execute_result"
    }
   ],
   "source": [
    "int(10.5)"
   ]
  },
  {
   "cell_type": "code",
   "execution_count": 19,
   "metadata": {
    "collapsed": false
   },
   "outputs": [
    {
     "ename": "SyntaxError",
     "evalue": "can't assign to operator (<ipython-input-19-fb00491963ea>, line 3)",
     "output_type": "error",
     "traceback": [
      "\u001b[0;36m  File \u001b[0;32m\"<ipython-input-19-fb00491963ea>\"\u001b[0;36m, line \u001b[0;32m3\u001b[0m\n\u001b[0;31m    num = int(raw_input(\"How many Nuggets do you need in your party, [type 'q' to exit] \\n >> \")) or num = 'q'\u001b[0m\n\u001b[0;31mSyntaxError\u001b[0m\u001b[0;31m:\u001b[0m can't assign to operator\n"
     ]
    }
   ],
   "source": [
    "        while True:\n",
    "            try:\n",
    "                num = int(raw_input(\"How many Nuggets do you need in your party, [type 'q' to exit] \\n >> \")) \n",
    "                break\n",
    "            except:\n",
    "                print \"input needs to be an integer or 'q'.\""
   ]
  },
  {
   "cell_type": "code",
   "execution_count": 22,
   "metadata": {
    "collapsed": false
   },
   "outputs": [
    {
     "data": {
      "text/plain": [
       "9"
      ]
     },
     "execution_count": 22,
     "metadata": {},
     "output_type": "execute_result"
    }
   ],
   "source": [
    "9%20"
   ]
  },
  {
   "cell_type": "code",
   "execution_count": 24,
   "metadata": {
    "collapsed": false
   },
   "outputs": [
    {
     "name": "stdout",
     "output_type": "stream",
     "text": [
      "\n"
     ]
    },
    {
     "data": {
      "text/plain": [
       "''"
      ]
     },
     "execution_count": 24,
     "metadata": {},
     "output_type": "execute_result"
    }
   ],
   "source": [
    "str(raw_input())"
   ]
  },
  {
   "cell_type": "code",
   "execution_count": 1,
   "metadata": {
    "collapsed": false
   },
   "outputs": [
    {
     "ename": "NameError",
     "evalue": "name 'limit' is not defined",
     "output_type": "error",
     "traceback": [
      "\u001b[0;31m---------------------------------------------------------------------------\u001b[0m",
      "\u001b[0;31mNameError\u001b[0m                                 Traceback (most recent call last)",
      "\u001b[0;32m<ipython-input-1-e72c6b46b34f>\u001b[0m in \u001b[0;36m<module>\u001b[0;34m()\u001b[0m\n\u001b[0;32m----> 1\u001b[0;31m \u001b[0mlimit\u001b[0m\u001b[1;33m(\u001b[0m\u001b[1;36m10\u001b[0m\u001b[1;33m/\u001b[0m\u001b[1;36m6\u001b[0m\u001b[1;33m)\u001b[0m\u001b[1;33m\u001b[0m\u001b[0m\n\u001b[0m",
      "\u001b[0;31mNameError\u001b[0m: name 'limit' is not defined"
     ]
    }
   ],
   "source": [
    "limit(10/6)"
   ]
  },
  {
   "cell_type": "code",
   "execution_count": 2,
   "metadata": {
    "collapsed": false
   },
   "outputs": [
    {
     "data": {
      "text/plain": [
       "2"
      ]
     },
     "execution_count": 2,
     "metadata": {},
     "output_type": "execute_result"
    }
   ],
   "source": [
    "int(9/4)"
   ]
  },
  {
   "cell_type": "code",
   "execution_count": 9,
   "metadata": {
    "collapsed": false
   },
   "outputs": [
    {
     "name": "stdout",
     "output_type": "stream",
     "text": [
      "a >>10.56\n"
     ]
    },
    {
     "ename": "ValueError",
     "evalue": "invalid literal for int() with base 10: '10.56'",
     "output_type": "error",
     "traceback": [
      "\u001b[0;31m---------------------------------------------------------------------------\u001b[0m",
      "\u001b[0;31mValueError\u001b[0m                                Traceback (most recent call last)",
      "\u001b[0;32m<ipython-input-9-f5f2c467c53a>\u001b[0m in \u001b[0;36m<module>\u001b[0;34m()\u001b[0m\n\u001b[0;32m----> 1\u001b[0;31m \u001b[0mint\u001b[0m\u001b[1;33m(\u001b[0m\u001b[0mraw_input\u001b[0m\u001b[1;33m(\u001b[0m\u001b[1;34m'a >>'\u001b[0m\u001b[1;33m)\u001b[0m\u001b[1;33m)\u001b[0m\u001b[1;33m\u001b[0m\u001b[0m\n\u001b[0m",
      "\u001b[0;31mValueError\u001b[0m: invalid literal for int() with base 10: '10.56'"
     ]
    }
   ],
   "source": [
    "int(raw_input('a >>'))"
   ]
  },
  {
   "cell_type": "code",
   "execution_count": 8,
   "metadata": {
    "collapsed": false
   },
   "outputs": [
    {
     "name": "stdout",
     "output_type": "stream",
     "text": [
      ">>>>10\n"
     ]
    },
    {
     "data": {
      "text/plain": [
       "'10'"
      ]
     },
     "execution_count": 8,
     "metadata": {},
     "output_type": "execute_result"
    }
   ],
   "source": [
    "raw_input('>>>>')"
   ]
  },
  {
   "cell_type": "code",
   "execution_count": null,
   "metadata": {
    "collapsed": true
   },
   "outputs": [],
   "source": []
  }
 ],
 "metadata": {
  "anaconda-cloud": {},
  "kernelspec": {
   "display_name": "Python [default]",
   "language": "python",
   "name": "python2"
  },
  "language_info": {
   "codemirror_mode": {
    "name": "ipython",
    "version": 2
   },
   "file_extension": ".py",
   "mimetype": "text/x-python",
   "name": "python",
   "nbconvert_exporter": "python",
   "pygments_lexer": "ipython2",
   "version": "2.7.12"
  }
 },
 "nbformat": 4,
 "nbformat_minor": 1
}
